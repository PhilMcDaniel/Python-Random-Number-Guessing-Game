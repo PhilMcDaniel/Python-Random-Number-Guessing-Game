{
 "cells": [
  {
   "cell_type": "code",
   "execution_count": null,
   "metadata": {},
   "outputs": [
    {
     "name": "stdout",
     "output_type": "stream",
     "text": [
      "Choose your lower bound1\n",
      "Choose your upper bound1\n",
      "Choose your guess1\n",
      "Wow, you guessed the random number of 1 on your first try\n",
      "The random number was 1\n"
     ]
    }
   ],
   "source": [
    "import random\n",
    "#add a counter for number of guesses\n",
    "#fix the final c\n",
    "l = input(\"Choose your lower bound\")\n",
    "u = input(\"Choose your upper bound\")\n",
    "g = input(\"Choose your guess\")\n",
    "n = random.randint(int(l),int(u))\n",
    "if (int(g) == int(n)):\n",
    "    print(\"Wow, you guessed the random number of\",n,\"on your first try\")\n",
    "    exit()\n",
    "if (not l.isdigit() and not u.isdigit()):\n",
    "    print(\"Please enter an integer values\")\n",
    "else:\n",
    "    #keep doing stuff because integers were entered\n",
    "    \n",
    "    while True:\n",
    "        print(\"The random number was\",n)\n",
    "        g = input(\"Choose a different number\")\n",
    "        if int(g) == int(n):\n",
    "            break\n",
    "print(\"You finally guessed it, the random number was:\",n)"
   ]
  },
  {
   "cell_type": "code",
   "execution_count": null,
   "metadata": {},
   "outputs": [],
   "source": []
  }
 ],
 "metadata": {
  "kernelspec": {
   "display_name": "Python 3",
   "language": "python",
   "name": "python3"
  }
 },
 "nbformat": 4,
 "nbformat_minor": 2
}
